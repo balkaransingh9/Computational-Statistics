{
  "nbformat": 4,
  "nbformat_minor": 0,
  "metadata": {
    "colab": {
      "name": "Monte Carlo Integration.ipynb",
      "provenance": [],
      "authorship_tag": "ABX9TyPmO/mhD9KCbFLuqS3ZYww2"
    },
    "kernelspec": {
      "name": "python3",
      "display_name": "Python 3"
    }
  },
  "cells": [
    {
      "cell_type": "markdown",
      "metadata": {
        "id": "CnW_kDMk4bUy",
        "colab_type": "text"
      },
      "source": [
        "###The crude method\n",
        "\n",
        "The mean value theorem states:\n",
        "$$<f> = \\frac{1}{b-a} \\int_{a}^{b} f(x) dx $$\n",
        "\n",
        "We can rewrite this as\n",
        "\n",
        "$$ \\int^{a}_{b}f(x)dx \\approx (b-a)\\frac{1}{N}\\sum^{N}_{i=1}f(x_{i}) $$\n",
        "Where $x_{i}$'s are uniformly distributed random numbers and $a$,$b$ is the definite interval.\n",
        "\n",
        "Starting off with a simple example:\n",
        "\n",
        "$$ \\int_{0}^{2} x^2+1dx  $$"
      ]
    },
    {
      "cell_type": "code",
      "metadata": {
        "id": "nIbUxKvU4U4g",
        "colab_type": "code",
        "colab": {
          "base_uri": "https://localhost:8080/",
          "height": 34
        },
        "outputId": "9cecb255-2137-45d6-e174-e77275ec62e6"
      },
      "source": [
        "import numpy as np\n",
        "import matplotlib.pyplot as plt\n",
        "from functools import reduce\n",
        "\n",
        "a = 0\n",
        "b = 2\n",
        "n = 1000\n",
        "func = lambda x: x**2+1\n",
        "numrand = np.random.uniform(a,b, n)\n",
        "evallist = map(func,numrand)\n",
        "intans = reduce(lambda i,j: i+j, evallist)\n",
        "ans = ((b-a)/float(n))*intans\n",
        "print(ans)"
      ],
      "execution_count": null,
      "outputs": [
        {
          "output_type": "stream",
          "text": [
            "4.617014595317849\n"
          ],
          "name": "stdout"
        }
      ]
    }
  ]
}